{
 "cells": [
  {
   "cell_type": "code",
   "execution_count": 24,
   "metadata": {},
   "outputs": [],
   "source": [
    "import numpy as np # linear algebra\n",
    "import pandas as pd # data processing, CSV file I/O (e.g. pd.read_csv)\n",
    "from sklearn.model_selection import train_test_split\n",
    "from sklearn.naive_bayes import GaussianNB\n",
    "from sklearn import metrics"
   ]
  },
  {
   "cell_type": "code",
   "execution_count": 25,
   "metadata": {},
   "outputs": [
    {
     "name": "stdout",
     "output_type": "stream",
     "text": [
      "   num_preg  glucose_conc  diastolic_bp  thickness  insulin   bmi  diab_pred  \\\n",
      "0         6           148            72         35        0  33.6      0.627   \n",
      "1         1            85            66         29        0  26.6      0.351   \n",
      "2         8           183            64          0        0  23.3      0.672   \n",
      "3         1            89            66         23       94  28.1      0.167   \n",
      "4         0           137            40         35      168  43.1      2.288   \n",
      "\n",
      "   age  diabetes  \n",
      "0   50         1  \n",
      "1   31         0  \n",
      "2   32         1  \n",
      "3   21         0  \n",
      "4   33         1  \n",
      "\n",
      "The total number of Training Data: (514, 1)\n",
      "The total number of Test Data: (254, 1)\n"
     ]
    }
   ],
   "source": [
    "df = pd.read_csv(\"data.csv\")\n",
    "feature_col_names = ['num_preg', 'glucose_conc', 'diastolic_bp', 'thickness', 'insulin', 'bmi', 'diab_pred', 'age']\n",
    "predicted_class_names = ['diabetes']\n",
    "x = df[feature_col_names].values \n",
    "y = df[predicted_class_names].values\n",
    "print(df.head())\n",
    "xtrain,xtest,ytrain,ytest=train_test_split(x,y,test_size=0.33)\n",
    "print ('\\nThe total number of Training Data:',ytrain.shape)\n",
    "print ('The total number of Test Data:',ytest.shape)"
   ]
  },
  {
   "cell_type": "code",
   "execution_count": 26,
   "metadata": {},
   "outputs": [
    {
     "name": "stdout",
     "output_type": "stream",
     "text": [
      "\n",
      "Confusion matrix\n",
      "[[136  16]\n",
      " [ 51  51]]\n",
      "\n",
      "Accuracy of the classifier: 0.7362204724409449\n",
      "The value of Precision: 0.7611940298507462\n",
      "The value of Recall: 0.5\n",
      "Predicted Value for individual Test Data: [1]\n"
     ]
    }
   ],
   "source": [
    "clf = GaussianNB().fit(xtrain,ytrain.ravel())\n",
    "predicted = clf.predict(xtest)\n",
    "predictTestData= clf.predict([[6,148,72,35,0,33.6,0.627,50]])\n",
    "print('\\nConfusion matrix')\n",
    "print(metrics.confusion_matrix(ytest,predicted))\n",
    "print('\\nAccuracy of the classifier:',metrics.accuracy_score(ytest,predicted))\n",
    "print('The value of Precision:', metrics.precision_score(ytest,predicted))\n",
    "print('The value of Recall:', metrics.recall_score(ytest,predicted))\n",
    "print(\"Predicted Value for individual Test Data:\", predictTestData)"
   ]
  },
  {
   "cell_type": "code",
   "execution_count": null,
   "metadata": {},
   "outputs": [],
   "source": []
  }
 ],
 "metadata": {
  "kernelspec": {
   "display_name": "Python 3",
   "language": "python",
   "name": "python3"
  },
  "language_info": {
   "codemirror_mode": {
    "name": "ipython",
    "version": 3
   },
   "file_extension": ".py",
   "mimetype": "text/x-python",
   "name": "python",
   "nbconvert_exporter": "python",
   "pygments_lexer": "ipython3",
   "version": "3.7.4"
  }
 },
 "nbformat": 4,
 "nbformat_minor": 2
}
