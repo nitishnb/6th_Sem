{
 "cells": [
  {
   "cell_type": "code",
   "execution_count": 15,
   "metadata": {},
   "outputs": [
    {
     "name": "stdout",
     "output_type": "stream",
     "text": [
      "Total no. of rows: 4\n",
      "Field names are:Weather, Temprature, Humidity, Goes\n",
      "\n",
      "The rows are:\n",
      "\n",
      "     Sunny       Warm       Mild        Yes \n",
      "\n",
      "     Rainy       Cold       Mild         No \n",
      "\n",
      "     Sunny   Moderate     Normal        Yes \n",
      "\n",
      "     Sunny       Cold       High        Yes \n",
      "\n"
     ]
    }
   ],
   "source": [
    "import csv \n",
    "import pandas as pd\n",
    "import numpy as np\n",
    "# csv file name \n",
    "filename = \"data.csv\"\n",
    "  \n",
    "# initializing the titles and rows list \n",
    "fields = [] \n",
    "rows = [] \n",
    "  \n",
    "# reading csv file \n",
    "with open(filename, 'r') as csvfile: \n",
    "    # creating a csv reader object \n",
    "    csvreader = csv.reader(csvfile) \n",
    "    # extracting field names through first row \n",
    "    fields = next(csvreader) \n",
    "  \n",
    "    # extracting each data row one by one \n",
    "    for row in csvreader: \n",
    "        rows.append(row) \n",
    "  \n",
    "    # get total number of rows \n",
    "    print(\"Total no. of rows: %d\"%(csvreader.line_num-1)) \n",
    "\n",
    "# printing the field names \n",
    "print('Field names are:' + ', '.join(field for field in fields)) \n",
    "  \n",
    "#  printing first 5 rows \n",
    "print('\\nThe rows are:\\n') \n",
    "for row in rows[:4]: \n",
    "    # parsing each column of a row \n",
    "    for col in row: \n",
    "        print(\"%10s\"%col, end =\" \")\n",
    "    print('\\n') "
   ]
  },
  {
   "cell_type": "code",
   "execution_count": 9,
   "metadata": {},
   "outputs": [
    {
     "name": "stdout",
     "output_type": "stream",
     "text": [
      "The entered data is \n",
      "\n",
      "  Weather Temprature Humidity Goes\n",
      "0   Sunny       Warm     Mild  Yes\n",
      "1   Rainy       Cold     Mild   No\n",
      "2   Sunny   Moderate   Normal  Yes\n",
      "3   Sunny       Cold     High  Yes \n",
      "\n",
      "\n",
      " The attributes are: \n",
      " [['Sunny' 'Warm' 'Mild']\n",
      " ['Rainy' 'Cold' 'Mild']\n",
      " ['Sunny' 'Moderate' 'Normal']\n",
      " ['Sunny' 'Cold' 'High']]\n",
      "\n",
      " The target is:  ['Yes' 'No' 'Yes' 'Yes']\n",
      "\n",
      " The final hypothesis is: ['Sunny' '?' '?']\n"
     ]
    }
   ],
   "source": [
    "data = pd.read_csv(\"data.csv\")\n",
    "print(\"The entered data is \\n\")\n",
    "print(data,\"\\n\")\n",
    "d = np.array(data)[:,:-1]\n",
    "print(\"\\n The attributes are: \\n\",d)\n",
    "target = np.array(data)[:,-1]\n",
    "print(\"\\n The target is: \",target)\n",
    "def training(c,t):\n",
    "    for i, val in enumerate(t):\n",
    "        if val == \"Yes\":\n",
    "            specific_hypothesis = c[i].copy()\n",
    "            break          \n",
    "    for i, val in enumerate(c):\n",
    "        if t[i] == \"Yes\":\n",
    "            for x in range(len(specific_hypothesis)):\n",
    "                if val[x] != specific_hypothesis[x]:\n",
    "                    specific_hypothesis[x] = '?'\n",
    "                else:\n",
    "                    pass\n",
    "    return specific_hypothesis\n",
    "print(\"\\n The final hypothesis is:\",training(d,target))"
   ]
  }
 ],
 "metadata": {
  "kernelspec": {
   "display_name": "Python 3",
   "language": "python",
   "name": "python3"
  },
  "language_info": {
   "codemirror_mode": {
    "name": "ipython",
    "version": 3
   },
   "file_extension": ".py",
   "mimetype": "text/x-python",
   "name": "python",
   "nbconvert_exporter": "python",
   "pygments_lexer": "ipython3",
   "version": "3.7.4"
  }
 },
 "nbformat": 4,
 "nbformat_minor": 2
}
