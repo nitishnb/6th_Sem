{
 "cells": [
  {
   "cell_type": "code",
   "execution_count": 1,
   "metadata": {},
   "outputs": [],
   "source": [
    "import csv \n",
    "import pandas as pd\n",
    "import numpy as np"
   ]
  },
  {
   "cell_type": "code",
   "execution_count": 2,
   "metadata": {},
   "outputs": [
    {
     "name": "stdout",
     "output_type": "stream",
     "text": [
      "The entered data is \n",
      "\n",
      "     sky airtemp humidity    wind water forcast enjoysport\n",
      "0  sunny    warm   normal  strong  warm    same        yes\n",
      "1  sunny    warm     high  strong  warm    same        yes\n",
      "2  rainy    cold     high  strong  warm  change         no\n",
      "3  sunny    warm     high  strong  cool  change        yes \n",
      "\n"
     ]
    }
   ],
   "source": [
    "data = pd.read_csv(\"data.csv\")\n",
    "print(\"The entered data is \\n\")\n",
    "print(data,\"\\n\")"
   ]
  },
  {
   "cell_type": "code",
   "execution_count": 3,
   "metadata": {},
   "outputs": [
    {
     "name": "stdout",
     "output_type": "stream",
     "text": [
      "\n",
      " The attributes are: \n",
      " [['sunny' 'warm' 'normal' 'strong' 'warm' 'same']\n",
      " ['sunny' 'warm' 'high' 'strong' 'warm' 'same']\n",
      " ['rainy' 'cold' 'high' 'strong' 'warm' 'change']\n",
      " ['sunny' 'warm' 'high' 'strong' 'cool' 'change']]\n",
      "\n",
      " The target is:  ['yes' 'yes' 'no' 'yes']\n"
     ]
    }
   ],
   "source": [
    "d = np.array(data)[:,:-1]\n",
    "print(\"\\n The attributes are: \\n\",d)\n",
    "target = np.array(data)[:,-1]\n",
    "print(\"\\n The target is: \",target)"
   ]
  },
  {
   "cell_type": "code",
   "execution_count": 75,
   "metadata": {},
   "outputs": [],
   "source": [
    "def CandElimination(d, target):\n",
    "    G = ['?']*(d.shape[1])\n",
    "    G = [G] * len(d[0])\n",
    "    S = ['Null']*(d.shape[1])\n",
    "    print(\"Initisally :\\nG = \",G,\"\\nS = \", S)\n",
    "    \n",
    "    for i in range(len(d)):\n",
    "        if target[i] == 'yes':\n",
    "            for j in range(d.shape[1]):\n",
    "                if S[j] == 'Null':\n",
    "                    S[j] = d[i][j]\n",
    "                elif S[j] != d[i][j]:\n",
    "                    S[j] = '?'\n",
    "        else:\n",
    "            for j in range(d.shape[1]):\n",
    "                if  S[j] != d[i][j]:\n",
    "                    G[j][j] = S[j]\n",
    "        print(\"\\nInstance \",i+1,\":\\nG = \",G,\"\\nS = \", S)"
   ]
  },
  {
   "cell_type": "code",
   "execution_count": 76,
   "metadata": {},
   "outputs": [
    {
     "name": "stdout",
     "output_type": "stream",
     "text": [
      "Initisally :\n",
      "G =  [['?', '?', '?', '?', '?', '?'], ['?', '?', '?', '?', '?', '?'], ['?', '?', '?', '?', '?', '?'], ['?', '?', '?', '?', '?', '?'], ['?', '?', '?', '?', '?', '?'], ['?', '?', '?', '?', '?', '?']] \n",
      "S =  ['Null', 'Null', 'Null', 'Null', 'Null', 'Null']\n",
      "\n",
      "Instance  1 :\n",
      "G =  [['?', '?', '?', '?', '?', '?'], ['?', '?', '?', '?', '?', '?'], ['?', '?', '?', '?', '?', '?'], ['?', '?', '?', '?', '?', '?'], ['?', '?', '?', '?', '?', '?'], ['?', '?', '?', '?', '?', '?']] \n",
      "S =  ['sunny', 'warm', 'normal', 'strong', 'warm', 'same']\n",
      "\n",
      "Instance  2 :\n",
      "G =  [['?', '?', '?', '?', '?', '?'], ['?', '?', '?', '?', '?', '?'], ['?', '?', '?', '?', '?', '?'], ['?', '?', '?', '?', '?', '?'], ['?', '?', '?', '?', '?', '?'], ['?', '?', '?', '?', '?', '?']] \n",
      "S =  ['sunny', 'warm', '?', 'strong', 'warm', 'same']\n",
      "\n",
      "Instance  3 :\n",
      "G =  [['sunny', 'warm', '?', '?', '?', 'same'], ['sunny', 'warm', '?', '?', '?', 'same'], ['sunny', 'warm', '?', '?', '?', 'same'], ['sunny', 'warm', '?', '?', '?', 'same'], ['sunny', 'warm', '?', '?', '?', 'same'], ['sunny', 'warm', '?', '?', '?', 'same']] \n",
      "S =  ['sunny', 'warm', '?', 'strong', 'warm', 'same']\n",
      "\n",
      "Instance  4 :\n",
      "G =  [['sunny', 'warm', '?', '?', '?', 'same'], ['sunny', 'warm', '?', '?', '?', 'same'], ['sunny', 'warm', '?', '?', '?', 'same'], ['sunny', 'warm', '?', '?', '?', 'same'], ['sunny', 'warm', '?', '?', '?', 'same'], ['sunny', 'warm', '?', '?', '?', 'same']] \n",
      "S =  ['sunny', 'warm', '?', 'strong', '?', '?']\n"
     ]
    }
   ],
   "source": [
    "(CandElimination(d, target))"
   ]
  },
  {
   "cell_type": "code",
   "execution_count": null,
   "metadata": {},
   "outputs": [],
   "source": []
  },
  {
   "cell_type": "code",
   "execution_count": null,
   "metadata": {},
   "outputs": [],
   "source": []
  },
  {
   "cell_type": "code",
   "execution_count": null,
   "metadata": {},
   "outputs": [],
   "source": []
  }
 ],
 "metadata": {
  "kernelspec": {
   "display_name": "Python 3",
   "language": "python",
   "name": "python3"
  },
  "language_info": {
   "codemirror_mode": {
    "name": "ipython",
    "version": 3
   },
   "file_extension": ".py",
   "mimetype": "text/x-python",
   "name": "python",
   "nbconvert_exporter": "python",
   "pygments_lexer": "ipython3",
   "version": "3.7.0"
  }
 },
 "nbformat": 4,
 "nbformat_minor": 2
}
