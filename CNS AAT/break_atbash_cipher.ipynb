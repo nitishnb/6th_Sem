{
 "cells": [
  {
   "cell_type": "code",
   "execution_count": 3,
   "metadata": {},
   "outputs": [],
   "source": [
    "from math import log10\n",
    "from pycipher import Affine\n",
    "import re"
   ]
  },
  {
   "cell_type": "code",
   "execution_count": 4,
   "metadata": {},
   "outputs": [],
   "source": [
    "class ngram_score(object):\n",
    "    def __init__(self,ngramfile,sep=' '):\n",
    "        ''' load a file containing ngrams and counts, calculate log probabilities '''\n",
    "        self.ngrams = {}\n",
    "        for line in open(ngramfile):\n",
    "            key,count = line.split(sep) \n",
    "            self.ngrams[key] = int(count)\n",
    "        self.L = len(key)\n",
    "        self.N = sum(self.ngrams.values())\n",
    "        #calculate log probabilities\n",
    "        for key in self.ngrams.keys():\n",
    "            self.ngrams[key] = log10(float(self.ngrams[key])/self.N)\n",
    "        self.floor = log10(0.01/self.N)\n",
    "\n",
    "    def score(self,text):\n",
    "        ''' compute the score of text '''\n",
    "        score = 0\n",
    "        ngrams = self.ngrams.__getitem__\n",
    "        for i in range(len(text)-self.L+1):\n",
    "            if text[i:i+self.L] in self.ngrams: score += ngrams(text[i:i+self.L])\n",
    "            else: score += self.floor          \n",
    "        return score"
   ]
  },
  {
   "cell_type": "code",
   "execution_count": 5,
   "metadata": {},
   "outputs": [],
   "source": [
    "fitness = ngram_score('english_quadgrams.txt') # load our quadgram statistics"
   ]
  },
  {
   "cell_type": "code",
   "execution_count": 6,
   "metadata": {},
   "outputs": [],
   "source": [
    "def break_affine(ctext):\n",
    "    # make sure ciphertext has all spacing/punc removed and is uppercase\n",
    "    ctext = re.sub('[^A-Z]','',ctext.upper())\n",
    "    # try all posiible keys, return the one with the highest fitness\n",
    "    scores = []\n",
    "    for i in [1,3,5,7,9,11,15,17,19,21,23,25]:\n",
    "        scores.extend([(fitness.score(Affine(i,j).decipher(ctext)),(i,j)) for j in range(0,26)])\n",
    "    return max(scores)"
   ]
  },
  {
   "cell_type": "code",
   "execution_count": 9,
   "metadata": {},
   "outputs": [
    {
     "name": "stdout",
     "output_type": "stream",
     "text": [
      "Enter cipher text : gsv hrnkov hfyhgrgfgrlm xrksvi rh z xrksvi gszg szh yvvm rm fhv uli nzmb sfmwivwh lu bvzih rg yzhrxzoob xlmhrhgh lu hfyhgrgfgrmt vevib kozrmgvcg xszizxgvi uli z wruuvivmg xrksvigvcg xszizxgvi rg wruuvih uiln xzvhzixrksvi rm gszg gsv xrksvi zokszyvg rh mlg hrnkob gsv zokszyvg hsrug vwrg rh xlnkovgvob qfnyovw\n",
      "\n",
      "\n",
      "Best candidate with key (a,b) = (25, 25):\n",
      "\n",
      "\n",
      "ABCDEFGHIJKLMNOPQRSTUVWXYZ => ZYXWVUTSRQPONMLKJIHGFEDCBA\n",
      "\n",
      "\n",
      "Plaintext : THE SIMPLE SUBSTITUTION CIPHER IS A CIPHER THAT HAS BEEN IN USE FOR MANY HUNDREDS OF YEARS IT BASICALLY CONSISTS OF SUBSTITUTING EVERY PLAINTEXT CHARACTER FOR A DIFFERENT CIPHERTEXT CHARACTER IT DIFFERS FROM CAESARCIPHER IN THAT THE CIPHER ALPHABET IS NOT SIMPLY THE ALPHABET SHIFT EDIT IS COMPLETELY JUMBLED\n"
     ]
    }
   ],
   "source": [
    "# this code cracks the affine cipher\n",
    "\n",
    "alphabet = \"abcdefghijklmnopqrstuvwxyz\"\n",
    "ctext = input(\"Enter cipher text : \")   # ciphertext\n",
    "key = 'ABCDEFGHIJKLMNOPQRSTUVWXYZ'\n",
    "max_key = break_affine(ctext)\n",
    "print(\"\\n\")\n",
    "print ('Best candidate with key (a,b) = '+str(max_key[1])+':')\n",
    "print(\"\\n\")\n",
    "new_key = Affine(max_key[1][0],max_key[1][1]).decipher(key)\n",
    "print ('ABCDEFGHIJKLMNOPQRSTUVWXYZ =>',new_key)\n",
    "result = \"\"\n",
    "\n",
    "for letter in ctext:\n",
    "    if letter.lower() in alphabet:\n",
    "        result += new_key[alphabet.find(letter.lower())]\n",
    "    else:\n",
    "        result += letter\n",
    "print(\"\\n\")\n",
    "print(\"Plaintext : \"+result)"
   ]
  }
 ],
 "metadata": {
  "kernelspec": {
   "display_name": "Python 3",
   "language": "python",
   "name": "python3"
  },
  "language_info": {
   "codemirror_mode": {
    "name": "ipython",
    "version": 3
   },
   "file_extension": ".py",
   "mimetype": "text/x-python",
   "name": "python",
   "nbconvert_exporter": "python",
   "pygments_lexer": "ipython3",
   "version": "3.7.4"
  }
 },
 "nbformat": 4,
 "nbformat_minor": 2
}
