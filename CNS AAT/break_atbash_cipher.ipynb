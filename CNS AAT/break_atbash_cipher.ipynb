{
 "cells": [
  {
   "cell_type": "code",
   "execution_count": 1,
   "metadata": {},
   "outputs": [],
   "source": [
    "from math import log10\n",
    "\n",
    "class ngram_score(object):\n",
    "    def __init__(self,ngramfile,sep=' '):\n",
    "        ''' load a file containing ngrams and counts, calculate log probabilities '''\n",
    "        self.ngrams = {}\n",
    "        for line in open(ngramfile):\n",
    "            key,count = line.split(sep) \n",
    "            self.ngrams[key] = int(count)\n",
    "        self.L = len(key)\n",
    "        self.N = sum(self.ngrams.values())\n",
    "        #calculate log probabilities\n",
    "        for key in self.ngrams.keys():\n",
    "            self.ngrams[key] = log10(float(self.ngrams[key])/self.N)\n",
    "        self.floor = log10(0.01/self.N)\n",
    "\n",
    "    def score(self,text):\n",
    "        ''' compute the score of text '''\n",
    "        score = 0\n",
    "        ngrams = self.ngrams.__getitem__\n",
    "        for i in range(len(text)-self.L+1):\n",
    "            if text[i:i+self.L] in self.ngrams: score += ngrams(text[i:i+self.L])\n",
    "            else: score += self.floor          \n",
    "        return score"
   ]
  },
  {
   "cell_type": "code",
   "execution_count": 2,
   "metadata": {},
   "outputs": [
    {
     "name": "stdout",
     "output_type": "stream",
     "text": [
      "best candidate with key (a,b) = (25, 25):\n",
      "ABCDEFGHIJKLMNOPQRSTUVWXYZ =>  ZYXWVUTSRQPONMLKJIHGFEDCBA\n",
      "THEQUICKBROWNFOXJUMPSOVERTHELAZYDOG\n"
     ]
    }
   ],
   "source": [
    "# this code cracks the affine cipher\n",
    "import re\n",
    "fitness = ngram_score('english_quadgrams.txt') # load our quadgram statistics\n",
    "from pycipher import Affine\n",
    "        \n",
    "def break_affine(ctext):\n",
    "    # make sure ciphertext has all spacing/punc removed and is uppercase\n",
    "    ctext = re.sub('[^A-Z]','',ctext.upper())\n",
    "    # try all posiible keys, return the one with the highest fitness\n",
    "    scores = []\n",
    "    for i in [1,3,5,7,9,11,15,17,19,21,23,25]:\n",
    "        scores.extend([(fitness.score(Affine(i,j).decipher(ctext)),(i,j)) for j in range(0,26)])\n",
    "    return max(scores)\n",
    "    \n",
    "# example ciphertext\n",
    "ctext = 'Gsv jfrxp yildm ulc qfnkh levi gsv ozab wlt'\n",
    "key = 'ABCDEFGHIJKLMNOPQRSTUVWXYZ'\n",
    "max_key = break_affine(ctext)\n",
    "\n",
    "print ('best candidate with key (a,b) = '+str(max_key[1])+':')\n",
    "print ('ABCDEFGHIJKLMNOPQRSTUVWXYZ => ',Affine(max_key[1][0],max_key[1][1]).decipher(key))\n",
    "print (Affine(max_key[1][0],max_key[1][1]).decipher(ctext))"
   ]
  },
  {
   "cell_type": "code",
   "execution_count": null,
   "metadata": {},
   "outputs": [],
   "source": []
  }
 ],
 "metadata": {
  "kernelspec": {
   "display_name": "Python 3",
   "language": "python",
   "name": "python3"
  },
  "language_info": {
   "codemirror_mode": {
    "name": "ipython",
    "version": 3
   },
   "file_extension": ".py",
   "mimetype": "text/x-python",
   "name": "python",
   "nbconvert_exporter": "python",
   "pygments_lexer": "ipython3",
   "version": "3.7.4"
  }
 },
 "nbformat": 4,
 "nbformat_minor": 2
}
