{
 "cells": [
  {
   "cell_type": "code",
   "execution_count": 2,
   "metadata": {},
   "outputs": [],
   "source": [
    "from math import log10\n",
    "\n",
    "class ngram_score(object):\n",
    "    def __init__(self,ngramfile,sep=' '):\n",
    "        ''' load a file containing ngrams and counts, calculate log probabilities '''\n",
    "        self.ngrams = {}\n",
    "        for line in open(ngramfile):\n",
    "            key,count = line.split(sep) \n",
    "            self.ngrams[key] = int(count)\n",
    "        self.L = len(key)\n",
    "        self.N = sum(self.ngrams.values())\n",
    "        #calculate log probabilities\n",
    "        for key in self.ngrams.keys():\n",
    "            self.ngrams[key] = log10(float(self.ngrams[key])/self.N)\n",
    "        self.floor = log10(0.01/self.N)\n",
    "\n",
    "    def score(self,text):\n",
    "        ''' compute the score of text '''\n",
    "        score = 0\n",
    "        ngrams = self.ngrams.__getitem__\n",
    "        for i in range(len(text)-self.L+1):\n",
    "            if text[i:i+self.L] in self.ngrams: score += ngrams(text[i:i+self.L])\n",
    "            else: score += self.floor          \n",
    "        return score"
   ]
  },
  {
   "cell_type": "code",
   "execution_count": 3,
   "metadata": {},
   "outputs": [],
   "source": [
    "from pycipher import SimpleSubstitution as SimpleSub\n",
    "import random\n",
    "import re\n"
   ]
  },
  {
   "cell_type": "code",
   "execution_count": 24,
   "metadata": {},
   "outputs": [],
   "source": [
    "fitness4 = ngram_score('english_quintgrams.txt')\n",
    "fitness3 = ngram_score('english_quadgrams.txt')\n",
    "fitness2 = ngram_score('english_trigrams.txt')\n",
    "fitness1 = ngram_score('english_bigrams.txt') # load our quadgram statistics\n"
   ]
  },
  {
   "cell_type": "code",
   "execution_count": null,
   "metadata": {},
   "outputs": [
    {
     "name": "stdout",
     "output_type": "stream",
     "text": [
      "Substitution Cipher solver, you may have to wait several iterations\n",
      "for the correct result. Press ctrl+c to exit program.\n",
      "\n",
      "best score so far: -172.5690877030218 on iteration 1\n",
      "    best key: SKUJBDOGZPNWXVLRTHFIYAEMQC\n",
      "    plaintext: HANDSPMJUTOFXCOZYSKBROWNTHANGIVELOQ\n",
      "\n",
      "best score so far: -166.8712573782901 on iteration 2\n",
      "    best key: YKORFDWQAPZMIBVGTSLCHJENUX\n",
      "    plaintext: PROVEDZJAMSFLYSTHEXBUSWOMPROCKINGSQ\n",
      "\n",
      "best score so far: -162.51542435665078 on iteration 5\n",
      "    best key: LBDZVPNHQWCOUFYXAISMREKJGT\n",
      "    plaintext: YSEXNUPFORACTMAKINGWHAVERYSELDQBJAZ\n",
      "\n",
      "best score so far: -162.43982841067722 on iteration 27\n",
      "    best key: BDNJVGXQFWUSARLYKIPZHECOMT\n",
      "    plaintext: FLEDINGSPROBYKOWHICQUOVERFLEXTMAJOZ\n",
      "\n",
      "best score so far: -161.7155497556982 on iteration 75\n",
      "    best key: GMQELRZIVAWHNOFKTDJXBSYCUP\n",
      "    plaintext: AVISOFTZWHERBYEXCOMPLEDIHAVINGJUKEQ\n",
      "\n",
      "best score so far: -158.79418993499604 on iteration 217\n",
      "    best key: MBRELNDHFPXWUIVGTSCKYJQOZA\n",
      "    plaintext: PROVICKJUNEGAMESWIFTHEDONPROXYZBLEQ\n",
      "\n",
      "best score so far: -155.7987897195952 on iteration 232\n",
      "    best key: LZCOVRKQFXEUHNGMTJYIPSWDAB\n",
      "    plaintext: OVERIFJUSTAXPLACHINGMAKETOVEDBYZWAQ\n",
      "\n",
      "best score so far: -155.22769983610885 on iteration 471\n",
      "    best key: ZXCRGHKIFOQUDNLMBESVWJYTPA\n",
      "    plaintext: ESTVIDBYWHOMPLOCKINGFORTHESTJAZQUOX\n"
     ]
    }
   ],
   "source": [
    " # load our quadgram statistics\n",
    "\n",
    "ctext='Gsv jfrxp yildm ulc qfnkh levi gsv ozab wlt'\n",
    "ctext = re.sub('[^A-Z]','',ctext.upper())\n",
    "\n",
    "maxkey = list('ABCDEFGHIJKLMNOPQRSTUVWXYZ')\n",
    "maxscore = -99e9\n",
    "parentscore,parentkey = maxscore,maxkey[:]\n",
    "print(\"Substitution Cipher solver, you may have to wait several iterations\")\n",
    "print(\"for the correct result. Press ctrl+c to exit program.\")\n",
    "# keep going until we are killed by the user\n",
    "i = 0\n",
    "while 1:\n",
    "    i = i+1\n",
    "    random.shuffle(parentkey)\n",
    "    deciphered = SimpleSub(parentkey).decipher(ctext)\n",
    "    parentscore = fitness3.score(deciphered) # + fitness4.score(deciphered) + fitness2.score(deciphered) + fitness1.score(deciphered)\n",
    "    count = 0\n",
    "    while count < 1000:\n",
    "        a = random.randint(0,25)\n",
    "        b = random.randint(0,25)\n",
    "        child = parentkey[:]\n",
    "        # swap two characters in the child\n",
    "        child[a],child[b] = child[b],child[a]\n",
    "        deciphered = SimpleSub(child).decipher(ctext)\n",
    "        score = fitness3.score(deciphered) # + fitness4.score(deciphered) + fitness2.score(deciphered) + fitness1.score(deciphered)\n",
    "        # if the child was better, replace the parent with it\n",
    "        if score > parentscore:\n",
    "            parentscore = score\n",
    "            parentkey = child[:]\n",
    "            count = 0\n",
    "        count = count+1\n",
    "    # keep track of best score seen so far\n",
    "    if parentscore>maxscore:\n",
    "        maxscore,maxkey = parentscore,parentkey[:]\n",
    "        print('\\nbest score so far:',maxscore,'on iteration',i)\n",
    "        ss = SimpleSub(maxkey)\n",
    "        print('    best key: '+''.join(maxkey))\n",
    "        print('    plaintext: '+ss.decipher(ctext))"
   ]
  },
  {
   "cell_type": "code",
   "execution_count": null,
   "metadata": {},
   "outputs": [],
   "source": []
  }
 ],
 "metadata": {
  "kernelspec": {
   "display_name": "Python 3",
   "language": "python",
   "name": "python3"
  }
 },
 "nbformat": 4,
 "nbformat_minor": 2
}
