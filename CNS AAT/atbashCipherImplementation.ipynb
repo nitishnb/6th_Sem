{
 "cells": [
  {
   "cell_type": "code",
   "execution_count": 6,
   "metadata": {},
   "outputs": [],
   "source": [
    "alphabet = \"abcdefghijklmnopqrstuvwxyz\"\n",
    "key = \"zyxwvutsrqponmlkjihgfedcba\""
   ]
  },
  {
   "cell_type": "code",
   "execution_count": 7,
   "metadata": {},
   "outputs": [
    {
     "name": "stdout",
     "output_type": "stream",
     "text": [
      "Enter Plaintext :SECONDPARTCLASSIFYINGTHEEYEIMAGETOCLASSIFYTHEPREPROCESSEDEYEIMAGEAMACHINELEARNINCLASSIFIERWASFIRSTBUILTUSINGTHESVMALGORITHMSVMSCANEFFICIENTLYSOLVELINEARORNONLINEARCLASSIFICATIONPROBLEMSITMAXIMIZESTHEMARGINAROUNDTHESEPARATINGHYPERPLANEANDHENCEITCANFINDANOPTIMALCLASSIFIERFACEDETECTIONALGORITHMLOOKSFORSPECIFICHAARFEATURESOFTHEFACEWHENONEOFTHEFEATURESISFOUNDTHEALGORITHMWILLALLOWTHEFACECANDIDATETOPASSTOTHENEXTSTAGEOFDETECTION\n"
     ]
    }
   ],
   "source": [
    "text = input(\"Enter Plaintext :\")\n",
    "\n",
    "result = \"\""
   ]
  },
  {
   "cell_type": "code",
   "execution_count": 8,
   "metadata": {},
   "outputs": [],
   "source": [
    "for letter in text:\n",
    "    if letter.lower() in alphabet:\n",
    "        result += key[alphabet.find(letter.lower())]\n",
    "    else:\n",
    "        result += letter"
   ]
  },
  {
   "cell_type": "code",
   "execution_count": 10,
   "metadata": {},
   "outputs": [
    {
     "name": "stdout",
     "output_type": "stream",
     "text": [
      "Plaintext :  SECONDPARTCLASSIFYINGTHEEYEIMAGETOCLASSIFYTHEPREPROCESSEDEYEIMAGEAMACHINELEARNINCLASSIFIERWASFIRSTBUILTUSINGTHESVMALGORITHMSVMSCANEFFICIENTLYSOLVELINEARORNONLINEARCLASSIFICATIONPROBLEMSITMAXIMIZESTHEMARGINAROUNDTHESEPARATINGHYPERPLANEANDHENCEITCANFINDANOPTIMALCLASSIFIERFACEDETECTIONALGORITHMLOOKSFORSPECIFICHAARFEATURESOFTHEFACEWHENONEOFTHEFEATURESISFOUNDTHEALGORITHMWILLALLOWTHEFACECANDIDATETOPASSTOTHENEXTSTAGEOFDETECTION\n",
      "\n",
      "Ciphertext :  hvxlmwkzigxozhhrubrmtgsvvbvrnztvglxozhhrubgsvkivkilxvhhvwvbvrnztvznzxsrmvovzimrmxozhhrurvidzhurihgyfrogfhrmtgsvhenzotlirgsnhenhxzmvuurxrvmgobhloevormvzilimlmormvzixozhhrurxzgrlmkilyovnhrgnzcrnravhgsvnzitrmzilfmwgsvhvkzizgrmtsbkvikozmvzmwsvmxvrgxzmurmwzmlkgrnzoxozhhrurviuzxvwvgvxgrlmzotlirgsnollphulihkvxrurxszziuvzgfivhlugsvuzxvdsvmlmvlugsvuvzgfivhrhulfmwgsvzotlirgsndroozooldgsvuzxvxzmwrwzgvglkzhhglgsvmvcghgztvluwvgvxgrlm\n"
     ]
    }
   ],
   "source": [
    "print(\"Plaintext : \",text)\n",
    "print()\n",
    "print(\"Ciphertext : \",result)"
   ]
  },
  {
   "cell_type": "code",
   "execution_count": null,
   "metadata": {},
   "outputs": [],
   "source": []
  }
 ],
 "metadata": {
  "kernelspec": {
   "display_name": "Python 3",
   "language": "python",
   "name": "python3"
  },
  "language_info": {
   "codemirror_mode": {
    "name": "ipython",
    "version": 3
   },
   "file_extension": ".py",
   "mimetype": "text/x-python",
   "name": "python",
   "nbconvert_exporter": "python",
   "pygments_lexer": "ipython3",
   "version": "3.7.4"
  }
 },
 "nbformat": 4,
 "nbformat_minor": 2
}
