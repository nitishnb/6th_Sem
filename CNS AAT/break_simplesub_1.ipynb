{
 "cells": [
  {
   "cell_type": "code",
   "execution_count": 2,
   "metadata": {},
   "outputs": [],
   "source": [
    "import matplotlib.pyplot as plt\n",
    "from collections import Counter"
   ]
  },
  {
   "cell_type": "code",
   "execution_count": 65,
   "metadata": {},
   "outputs": [],
   "source": [
    "alphabet = \"abcdefghijklmnopqrstuvwxyz\"\n",
    "# f = open(\"genesis-en.txt\", \"r\")\n",
    "# f = open(\"english.txt\", \"r\")\n",
    "f = open(\"BohemianRhapsody.txt\", \"r\")\n",
    "corpus = f.read()"
   ]
  },
  {
   "cell_type": "code",
   "execution_count": 66,
   "metadata": {},
   "outputs": [
    {
     "data": {
      "text/plain": [
       "<BarContainer object of 26 artists>"
      ]
     },
     "execution_count": 66,
     "metadata": {},
     "output_type": "execute_result"
    },
    {
     "data": {
      "image/png": "[encoded data removed]",
      "text/plain": [
       "<Figure size 432x288 with 1 Axes>"
      ]
     },
     "metadata": {
      "needs_background": "light"
     },
     "output_type": "display_data"
    }
   ],
   "source": [
    "plt.bar(list(alphabet), [corpus.lower().count(letter) for letter in alphabet])"
   ]
  },
  {
   "cell_type": "code",
   "execution_count": 67,
   "metadata": {},
   "outputs": [
    {
     "data": {
      "text/plain": [
       "<BarContainer object of 26 artists>"
      ]
     },
     "execution_count": 67,
     "metadata": {},
     "output_type": "execute_result"
    },
    {
     "data": {
      "image/png": "[encoded data removed]",
      "text/plain": [
       "<Figure size 432x288 with 1 Axes>"
      ]
     },
     "metadata": {
      "needs_background": "light"
     },
     "output_type": "display_data"
    }
   ],
   "source": [
    "cipher = '''rh gsrh gsv ivzo oruv?\n",
    "rh gsrh qfhg uzmgzhb?\n",
    "xzftsg rm z ozmwhrwv,\n",
    "ml vhxzkv uiln ivzorgb\n",
    "lkvm blfi vbvh,\n",
    "ollp fk gl gsv hprvh zmw hvv,\n",
    "r'n qfhg z klli ylb, r mvvw ml hbnkzgsb,\n",
    "yvxzfhv r'n vzhb xlnv, vzhb tl,\n",
    "orggov srts, orggov old,\n",
    "zmb dzb gsv drmw yoldh wlvhm'g ivzoob nzggvi gl\n",
    "nv, gl nv\n",
    "nznz,\n",
    "qfhg proovw z nzm,\n",
    "kfg z tfm ztzrmhg srh svzw, kfoovw nb girttvi,\n",
    "mld sv'h wvzw\n",
    "nznzzz, oruv szw qfhg yvtfm,\n",
    "yfg mld r'ev tlmv zmw gsildm rg zoo zdzb\n",
    "nznz, llls,\n",
    "wrwm'g nvzm gl nzpv blf xib,\n",
    "ru r'n mlg yzxp ztzrm gsrh grnv glnliild,\n",
    "xziib lm, xziib lm zh ru mlgsrmt ivzoob nzggvih\n",
    "gll ozgv, nb grnv szh xlnv,\n",
    "hvmwh hsrevih wldm nb hkrmv, ylwb'h zxsrmt zoo\n",
    "gsv grnv\n",
    "tllwybv, vevibylwb, r'ev tlg gl tl,\n",
    "tlggz ovzev blf zoo yvsrmw zmw uzxv gsv gifgs\n",
    "nznz, ls\n",
    "r wlm'g dzmg gl…'''\n",
    "plt.bar(list(alphabet), [cipher.lower().count(letter) for letter in alphabet])"
   ]
  },
  {
   "cell_type": "code",
   "execution_count": 68,
   "metadata": {},
   "outputs": [
    {
     "data": {
      "text/plain": [
       "<BarContainer object of 26 artists>"
      ]
     },
     "execution_count": 68,
     "metadata": {},
     "output_type": "execute_result"
    },
    {
     "data": {
      "image/png": "[encoded data removed]",
      "text/plain": [
       "<Figure size 432x288 with 1 Axes>"
      ]
     },
     "metadata": {
      "needs_background": "light"
     },
     "output_type": "display_data"
    }
   ],
   "source": [
    "import pandas as pd\n",
    "\n",
    "df_plain = pd.DataFrame({\n",
    "    \"letter\": list(alphabet),\n",
    "    \"count\": [corpus.lower().count(letter) for letter in alphabet]\n",
    "})\n",
    "\n",
    "df_plain = df_plain.sort_values(\"count\")\n",
    "plt.bar(df_plain[\"letter\"], df_plain[\"count\"])"
   ]
  },
  {
   "cell_type": "code",
   "execution_count": 69,
   "metadata": {},
   "outputs": [
    {
     "data": {
      "text/plain": [
       "<BarContainer object of 26 artists>"
      ]
     },
     "execution_count": 69,
     "metadata": {},
     "output_type": "execute_result"
    },
    {
     "data": {
      "image/png": "[encoded data removed]",
      "text/plain": [
       "<Figure size 432x288 with 1 Axes>"
      ]
     },
     "metadata": {
      "needs_background": "light"
     },
     "output_type": "display_data"
    }
   ],
   "source": [
    "df_cipher = pd.DataFrame({\n",
    "    \"letter\": list(alphabet),\n",
    "    \"count\": [cipher.lower().count(letter) for letter in alphabet]\n",
    "})\n",
    "df_cipher = df_cipher.sort_values(\"count\")\n",
    "plt.bar(df_cipher[\"letter\"], df_cipher[\"count\"])"
   ]
  },
  {
   "cell_type": "code",
   "execution_count": 70,
   "metadata": {},
   "outputs": [
    {
     "name": "stdout",
     "output_type": "stream",
     "text": [
      "{'a': 'z', 'b': 'y', 'c': 'x', 'd': 'w', 'e': 'v', 'f': 'u', 'g': 't', 'h': 's', 'i': 'r', 'j': 'q', 'k': 'p', 'l': 'o', 'm': 'n', 'n': 'm', 'o': 'l', 'p': 'k', 'q': 'j', 'r': 'i', 's': 'h', 't': 'g', 'u': 'f', 'v': 'e', 'w': 'd', 'x': 'c', 'y': 'b', 'z': 'a'} \n",
      "\n",
      "The resulting key is : zyxwvutsrqponmlkjihgfedcba\n",
      "\n",
      "is this the real life?\n",
      "is this just fantasy?\n",
      "caught in a landside,\n",
      "no escape from reality\n",
      "open your eyes,\n",
      "look up to the skies and see,\n",
      "i'm just a poor boy, i need no sympathy,\n",
      "because i'm easy come, easy go,\n",
      "little high, little low,\n",
      "any way the wind blows doesn't really matter to\n",
      "me, to me\n",
      "mama,\n",
      "just killed a man,\n",
      "put a gun against his head, pulled my trigger,\n",
      "now he's dead\n",
      "mamaaa, life had just begun,\n",
      "but now i've gone and thrown it all away\n",
      "mama, oooh,\n",
      "didn't mean to make you cry,\n",
      "if i'm not back again this time tomorrow,\n",
      "carry on, carry on as if nothing really matters\n",
      "too late, my time has come,\n",
      "sends shivers down my spine, body's aching all\n",
      "the time\n",
      "goodbye, everybody, i've got to go,\n",
      "gotta leave you all behind and face the truth\n",
      "mama, oh\n",
      "i don't want to…\n"
     ]
    }
   ],
   "source": [
    "a = df_cipher.to_numpy()\n",
    "b = df_plain.to_numpy()\n",
    "\n",
    "key = []\n",
    "for i in range(0, 26):\n",
    "    key.append((a[i][0], b[i][0]))\n",
    "    \n",
    "key = sorted(key)\n",
    "dict_obj = {}\n",
    "\n",
    "def decrypt(dict_obj):\n",
    "    result = \"\"\n",
    "    keystr = \"\"\n",
    "    for letter in alphabet:\n",
    "        keystr += dict_obj[letter]\n",
    "    \n",
    "    \n",
    "    print(\"The resulting key is : \"+keystr+\"\\n\")\n",
    "\n",
    "    for letter in cipher:\n",
    "        if letter.lower() in alphabet:\n",
    "            result += keystr[alphabet.find(letter.lower())]\n",
    "        else:\n",
    "            result += letter\n",
    "\n",
    "    print(result)\n",
    "\n",
    "for i in range(0, 26):\n",
    "    dict_obj[key[i][0]]=key[i][1]\n",
    "    \n",
    "print(dict_obj,\"\\n\")\n",
    "decrypt(dict_obj)"
   ]
  },
  {
   "cell_type": "code",
   "execution_count": null,
   "metadata": {},
   "outputs": [],
   "source": []
  },
  {
   "cell_type": "code",
   "execution_count": null,
   "metadata": {},
   "outputs": [],
   "source": []
  }
 ],
 "metadata": {
  "kernelspec": {
   "display_name": "Python 3",
   "language": "python",
   "name": "python3"
  },
  "language_info": {
   "codemirror_mode": {
    "name": "ipython",
    "version": 3
   },
   "file_extension": ".py",
   "mimetype": "text/x-python",
   "name": "python",
   "nbconvert_exporter": "python",
   "pygments_lexer": "ipython3",
   "version": "3.7.4"
  }
 },
 "nbformat": 4,
 "nbformat_minor": 2
}
